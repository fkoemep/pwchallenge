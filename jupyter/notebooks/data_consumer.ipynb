{
 "cells": [
  {
   "cell_type": "code",
   "execution_count": 2,
   "id": "initial_id",
   "metadata": {
    "ExecuteTime": {
     "end_time": "2024-01-19T15:18:23.219202700Z",
     "start_time": "2024-01-19T15:18:10.197121800Z"
    }
   },
   "outputs": [
    {
     "name": "stdout",
     "output_type": "stream",
     "text": [
      "Requirement already satisfied: psycopg[binary] in /usr/local/lib/python3.12/site-packages (3.1.17)\n",
      "Requirement already satisfied: typing-extensions>=4.1 in /usr/local/lib/python3.12/site-packages (from psycopg[binary]) (4.9.0)\n",
      "Requirement already satisfied: psycopg-binary==3.1.17 in /usr/local/lib/python3.12/site-packages (from psycopg[binary]) (3.1.17)\n",
      "\u001B[33mWARNING: Running pip as the 'root' user can result in broken permissions and conflicting behaviour with the system package manager. It is recommended to use a virtual environment instead: https://pip.pypa.io/warnings/venv\u001B[0m\u001B[33m\n",
      "\u001B[0m\n",
      "\u001B[1m[\u001B[0m\u001B[34;49mnotice\u001B[0m\u001B[1;39;49m]\u001B[0m\u001B[39;49m A new release of pip is available: \u001B[0m\u001B[31;49m23.2.1\u001B[0m\u001B[39;49m -> \u001B[0m\u001B[32;49m23.3.2\u001B[0m\n",
      "\u001B[1m[\u001B[0m\u001B[34;49mnotice\u001B[0m\u001B[1;39;49m]\u001B[0m\u001B[39;49m To update, run: \u001B[0m\u001B[32;49mpip install --upgrade pip\u001B[0m\n",
      "Note: you may need to restart the kernel to use updated packages.\n"
     ]
    }
   ],
   "source": [
    "pip install psycopg[binary]"
   ]
  },
  {
   "cell_type": "code",
   "execution_count": 4,
   "id": "2d805bbf301f528f",
   "metadata": {
    "collapsed": false
   },
   "outputs": [
    {
     "data": {
      "text/html": [
       "<div>\n",
       "<style scoped>\n",
       "    .dataframe tbody tr th:only-of-type {\n",
       "        vertical-align: middle;\n",
       "    }\n",
       "\n",
       "    .dataframe tbody tr th {\n",
       "        vertical-align: top;\n",
       "    }\n",
       "\n",
       "    .dataframe thead th {\n",
       "        text-align: right;\n",
       "    }\n",
       "</style>\n",
       "<table border=\"1\" class=\"dataframe\">\n",
       "  <thead>\n",
       "    <tr style=\"text-align: right;\">\n",
       "      <th></th>\n",
       "    </tr>\n",
       "  </thead>\n",
       "  <tbody>\n",
       "  </tbody>\n",
       "</table>\n",
       "</div>"
      ],
      "text/plain": [
       "Empty DataFrame\n",
       "Columns: []\n",
       "Index: []"
      ]
     },
     "metadata": {},
     "output_type": "display_data"
    }
   ],
   "source": [
    "import psycopg\n",
    "import pandas as pd\n",
    "from psycopg.rows import dict_row\n",
    "import os\n",
    "\n",
    "testfligoo_connection = os.environ['medicaldata_connection']\n",
    "\n",
    "with psycopg.connect(testfligoo_connection, row_factory=dict_row) as conn:\n",
    "\n",
    "    # Open a cursor to perform database operations\n",
    "    with conn.cursor() as cur:\n",
    "        try:\n",
    "            # Query the database and obtain data as Python objects.\n",
    "            cur.execute(\"SELECT * FROM stay_daily_cost\")\n",
    "            result = cur.fetchall()\n",
    "            \n",
    "            data = pd.DataFrame(result)\n",
    "            display(data)\n",
    "\n",
    "        \n",
    "        except BaseException:\n",
    "            conn.rollback()\n",
    "        \n",
    "        else:\n",
    "            conn.commit()\n",
    "        \n",
    "        finally:\n",
    "            conn.close()\n"
   ]
  }
 ],
 "metadata": {
  "kernelspec": {
   "display_name": "Python 3 (ipykernel)",
   "language": "python",
   "name": "python3"
  },
  "language_info": {
   "codemirror_mode": {
    "name": "ipython",
    "version": 3
   },
   "file_extension": ".py",
   "mimetype": "text/x-python",
   "name": "python",
   "nbconvert_exporter": "python",
   "pygments_lexer": "ipython3",
   "version": "3.12.1"
  }
 },
 "nbformat": 4,
 "nbformat_minor": 5
}
